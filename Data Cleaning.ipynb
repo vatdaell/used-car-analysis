{
 "cells": [
  {
   "cell_type": "code",
   "execution_count": 1,
   "metadata": {},
   "outputs": [],
   "source": [
    "import numpy as np\n",
    "import pandas as pd\n",
    "import matplotlib.pyplot as plt\n",
    "import seaborn as sns\n",
    "np.random.seed(123)"
   ]
  },
  {
   "cell_type": "code",
   "execution_count": 2,
   "metadata": {},
   "outputs": [
    {
     "data": {
      "text/html": [
       "<div>\n",
       "<style scoped>\n",
       "    .dataframe tbody tr th:only-of-type {\n",
       "        vertical-align: middle;\n",
       "    }\n",
       "\n",
       "    .dataframe tbody tr th {\n",
       "        vertical-align: top;\n",
       "    }\n",
       "\n",
       "    .dataframe thead th {\n",
       "        text-align: right;\n",
       "    }\n",
       "</style>\n",
       "<table border=\"1\" class=\"dataframe\">\n",
       "  <thead>\n",
       "    <tr style=\"text-align: right;\">\n",
       "      <th></th>\n",
       "      <th>sunroof</th>\n",
       "      <th>alloywheels</th>\n",
       "      <th>aircondition</th>\n",
       "      <th>nav</th>\n",
       "      <th>bluetooth</th>\n",
       "      <th>pushstart</th>\n",
       "      <th>parkingassist</th>\n",
       "      <th>cruisecontrol</th>\n",
       "      <th>trailerhitch</th>\n",
       "      <th>url</th>\n",
       "      <th>...</th>\n",
       "      <th>colour</th>\n",
       "      <th>body</th>\n",
       "      <th>doors</th>\n",
       "      <th>seating</th>\n",
       "      <th>transmission</th>\n",
       "      <th>fuel</th>\n",
       "      <th>km</th>\n",
       "      <th>description</th>\n",
       "      <th>carfax</th>\n",
       "      <th>vin</th>\n",
       "    </tr>\n",
       "  </thead>\n",
       "  <tbody>\n",
       "    <tr>\n",
       "      <th>0</th>\n",
       "      <td>1</td>\n",
       "      <td>1</td>\n",
       "      <td>1</td>\n",
       "      <td>0</td>\n",
       "      <td>0</td>\n",
       "      <td>0</td>\n",
       "      <td>0</td>\n",
       "      <td>1</td>\n",
       "      <td>0</td>\n",
       "      <td>https://www.kijiji.ca/v-cars-trucks/city-of-to...</td>\n",
       "      <td>...</td>\n",
       "      <td>Grey</td>\n",
       "      <td>SUV, Crossover</td>\n",
       "      <td>NaN</td>\n",
       "      <td>NaN</td>\n",
       "      <td>Automatic</td>\n",
       "      <td>Gasoline</td>\n",
       "      <td>384,900</td>\n",
       "      <td>3rd Gen Toyota 4RunnerRunning strong at 385k. ...</td>\n",
       "      <td>NaN</td>\n",
       "      <td>NaN</td>\n",
       "    </tr>\n",
       "    <tr>\n",
       "      <th>1</th>\n",
       "      <td>1</td>\n",
       "      <td>1</td>\n",
       "      <td>1</td>\n",
       "      <td>0</td>\n",
       "      <td>0</td>\n",
       "      <td>0</td>\n",
       "      <td>0</td>\n",
       "      <td>1</td>\n",
       "      <td>0</td>\n",
       "      <td>https://www.kijiji.ca/v-cars-trucks/city-of-to...</td>\n",
       "      <td>...</td>\n",
       "      <td>Blue</td>\n",
       "      <td>Wagon</td>\n",
       "      <td>5</td>\n",
       "      <td>5</td>\n",
       "      <td>Automatic</td>\n",
       "      <td>Gasoline</td>\n",
       "      <td>239,000</td>\n",
       "      <td>Subaru Outback 2005 2.5, 170 hp. With 239000 k...</td>\n",
       "      <td>NaN</td>\n",
       "      <td>NaN</td>\n",
       "    </tr>\n",
       "    <tr>\n",
       "      <th>2</th>\n",
       "      <td>0</td>\n",
       "      <td>1</td>\n",
       "      <td>1</td>\n",
       "      <td>0</td>\n",
       "      <td>0</td>\n",
       "      <td>1</td>\n",
       "      <td>0</td>\n",
       "      <td>0</td>\n",
       "      <td>0</td>\n",
       "      <td>https://www.kijiji.ca/v-cars-trucks/city-of-to...</td>\n",
       "      <td>...</td>\n",
       "      <td>Grey</td>\n",
       "      <td>Sedan</td>\n",
       "      <td>4</td>\n",
       "      <td>5</td>\n",
       "      <td>Manual</td>\n",
       "      <td>NaN</td>\n",
       "      <td>28,200</td>\n",
       "      <td>2008 Mitsubishi Lancer Evolution X GSR\\r\\nPhan...</td>\n",
       "      <td>NaN</td>\n",
       "      <td>NaN</td>\n",
       "    </tr>\n",
       "    <tr>\n",
       "      <th>3</th>\n",
       "      <td>1</td>\n",
       "      <td>1</td>\n",
       "      <td>1</td>\n",
       "      <td>0</td>\n",
       "      <td>0</td>\n",
       "      <td>0</td>\n",
       "      <td>1</td>\n",
       "      <td>1</td>\n",
       "      <td>1</td>\n",
       "      <td>https://www.kijiji.ca/v-cars-trucks/city-of-to...</td>\n",
       "      <td>...</td>\n",
       "      <td>Red</td>\n",
       "      <td>Other</td>\n",
       "      <td>2</td>\n",
       "      <td>2</td>\n",
       "      <td>Manual</td>\n",
       "      <td>Gasoline</td>\n",
       "      <td>399</td>\n",
       "      <td>Certified International Flatbed Truck- Low km!...</td>\n",
       "      <td>NaN</td>\n",
       "      <td>NaN</td>\n",
       "    </tr>\n",
       "    <tr>\n",
       "      <th>4</th>\n",
       "      <td>0</td>\n",
       "      <td>0</td>\n",
       "      <td>1</td>\n",
       "      <td>0</td>\n",
       "      <td>1</td>\n",
       "      <td>1</td>\n",
       "      <td>0</td>\n",
       "      <td>0</td>\n",
       "      <td>0</td>\n",
       "      <td>https://www.kijiji.ca/v-cars-trucks/city-of-to...</td>\n",
       "      <td>...</td>\n",
       "      <td>Silver</td>\n",
       "      <td>Sedan</td>\n",
       "      <td>4</td>\n",
       "      <td>5</td>\n",
       "      <td>Automatic</td>\n",
       "      <td>Gasoline</td>\n",
       "      <td>66,000</td>\n",
       "      <td>10,900 or best offer\\r\\nMazda3 CX in amazing c...</td>\n",
       "      <td>NaN</td>\n",
       "      <td>NaN</td>\n",
       "    </tr>\n",
       "  </tbody>\n",
       "</table>\n",
       "<p>5 rows × 27 columns</p>\n",
       "</div>"
      ],
      "text/plain": [
       "   sunroof  alloywheels  aircondition  nav  bluetooth  pushstart  \\\n",
       "0        1            1             1    0          0          0   \n",
       "1        1            1             1    0          0          0   \n",
       "2        0            1             1    0          0          1   \n",
       "3        1            1             1    0          0          0   \n",
       "4        0            0             1    0          1          1   \n",
       "\n",
       "   parkingassist  cruisecontrol  trailerhitch  \\\n",
       "0              0              1             0   \n",
       "1              0              1             0   \n",
       "2              0              0             0   \n",
       "3              1              1             1   \n",
       "4              0              0             0   \n",
       "\n",
       "                                                 url  ...  colour  \\\n",
       "0  https://www.kijiji.ca/v-cars-trucks/city-of-to...  ...    Grey   \n",
       "1  https://www.kijiji.ca/v-cars-trucks/city-of-to...  ...    Blue   \n",
       "2  https://www.kijiji.ca/v-cars-trucks/city-of-to...  ...    Grey   \n",
       "3  https://www.kijiji.ca/v-cars-trucks/city-of-to...  ...     Red   \n",
       "4  https://www.kijiji.ca/v-cars-trucks/city-of-to...  ...  Silver   \n",
       "\n",
       "             body doors  seating transmission      fuel       km  \\\n",
       "0  SUV, Crossover   NaN      NaN    Automatic  Gasoline  384,900   \n",
       "1           Wagon     5        5    Automatic  Gasoline  239,000   \n",
       "2           Sedan     4        5       Manual       NaN   28,200   \n",
       "3           Other     2        2       Manual  Gasoline      399   \n",
       "4           Sedan     4        5    Automatic  Gasoline   66,000   \n",
       "\n",
       "                                         description carfax  vin  \n",
       "0  3rd Gen Toyota 4RunnerRunning strong at 385k. ...    NaN  NaN  \n",
       "1  Subaru Outback 2005 2.5, 170 hp. With 239000 k...    NaN  NaN  \n",
       "2  2008 Mitsubishi Lancer Evolution X GSR\\r\\nPhan...    NaN  NaN  \n",
       "3  Certified International Flatbed Truck- Low km!...    NaN  NaN  \n",
       "4  10,900 or best offer\\r\\nMazda3 CX in amazing c...    NaN  NaN  \n",
       "\n",
       "[5 rows x 27 columns]"
      ]
     },
     "execution_count": 2,
     "metadata": {},
     "output_type": "execute_result"
    }
   ],
   "source": [
    "df = pd.read_csv('extractedData.csv')\n",
    "df.head()"
   ]
  },
  {
   "cell_type": "code",
   "execution_count": 3,
   "metadata": {},
   "outputs": [
    {
     "name": "stdout",
     "output_type": "stream",
     "text": [
      "<class 'pandas.core.frame.DataFrame'>\n",
      "RangeIndex: 4460 entries, 0 to 4459\n",
      "Data columns (total 27 columns):\n",
      " #   Column         Non-Null Count  Dtype  \n",
      "---  ------         --------------  -----  \n",
      " 0   sunroof        4460 non-null   int64  \n",
      " 1   alloywheels    4460 non-null   int64  \n",
      " 2   aircondition   4460 non-null   int64  \n",
      " 3   nav            4460 non-null   int64  \n",
      " 4   bluetooth      4460 non-null   int64  \n",
      " 5   pushstart      4460 non-null   int64  \n",
      " 6   parkingassist  4460 non-null   int64  \n",
      " 7   cruisecontrol  4460 non-null   int64  \n",
      " 8   trailerhitch   4460 non-null   int64  \n",
      " 9   url            4460 non-null   object \n",
      " 10  title          4449 non-null   object \n",
      " 11  price          4064 non-null   object \n",
      " 12  condition      4449 non-null   object \n",
      " 13  year           4449 non-null   float64\n",
      " 14  make           4449 non-null   object \n",
      " 15  model          4449 non-null   object \n",
      " 16  trim           2196 non-null   object \n",
      " 17  colour         3709 non-null   object \n",
      " 18  body           4449 non-null   object \n",
      " 19  doors          3614 non-null   object \n",
      " 20  seating        3318 non-null   object \n",
      " 21  transmission   3984 non-null   object \n",
      " 22  fuel           3183 non-null   object \n",
      " 23  km             4429 non-null   object \n",
      " 24  description    4449 non-null   object \n",
      " 25  carfax         951 non-null    object \n",
      " 26  vin            951 non-null    object \n",
      "dtypes: float64(1), int64(9), object(17)\n",
      "memory usage: 940.9+ KB\n"
     ]
    }
   ],
   "source": [
    "df.info()"
   ]
  },
  {
   "cell_type": "code",
   "execution_count": 4,
   "metadata": {},
   "outputs": [
    {
     "data": {
      "text/plain": [
       "(3593, 27)"
      ]
     },
     "execution_count": 4,
     "metadata": {},
     "output_type": "execute_result"
    }
   ],
   "source": [
    "# We need to remove listings that have no price or total km on engine because then it will be hard to gauge the value\n",
    "df = df.drop_duplicates().dropna(how='all').dropna(subset=['km']).dropna(subset=['price'])\n",
    "df.shape"
   ]
  },
  {
   "cell_type": "code",
   "execution_count": 5,
   "metadata": {},
   "outputs": [
    {
     "data": {
      "text/plain": [
       "0     $3,850.00\n",
       "1     $3,850.00\n",
       "2    $39,500.00\n",
       "3     $6,650.00\n",
       "4    $10,900.00\n",
       "Name: price, dtype: object"
      ]
     },
     "execution_count": 5,
     "metadata": {},
     "output_type": "execute_result"
    }
   ],
   "source": [
    "df.price.head()"
   ]
  },
  {
   "cell_type": "code",
   "execution_count": 6,
   "metadata": {},
   "outputs": [],
   "source": [
    "df.price = df.price.apply(lambda x: np.float(x.replace(\"$\",\"\").replace(\",\",\"\")))"
   ]
  },
  {
   "cell_type": "code",
   "execution_count": 7,
   "metadata": {},
   "outputs": [
    {
     "data": {
      "text/plain": [
       "0     3850.0\n",
       "1     3850.0\n",
       "2    39500.0\n",
       "3     6650.0\n",
       "4    10900.0\n",
       "Name: price, dtype: float64"
      ]
     },
     "execution_count": 7,
     "metadata": {},
     "output_type": "execute_result"
    }
   ],
   "source": [
    "df.price.head()"
   ]
  },
  {
   "cell_type": "code",
   "execution_count": 8,
   "metadata": {},
   "outputs": [
    {
     "data": {
      "text/plain": [
       "array(['Toyota', 'Subaru', 'Mitsubishi', 'International Harvester',\n",
       "       'Mazda', 'Suzuki', 'Honda', 'Ford', 'BMW', 'Acura', 'Hyundai',\n",
       "       'Volkswagen', 'Land Rover', 'Lexus', 'Chrysler', 'Smart',\n",
       "       'Chevrolet', 'Dodge', 'Nissan', 'Infiniti', 'Audi', 'Kia', 'Jeep',\n",
       "       'Mercedes-Benz', 'Pontiac', 'Buick', 'Jaguar', 'Scion', 'Cadillac',\n",
       "       'Volvo', 'GMC', 'Lincoln', 'HUMMER', 'Saab', 'MINI', 'Other',\n",
       "       'Porsche', 'Tesla', 'Fiat', 'Saturn', 'Ram', 'Oldsmobile',\n",
       "       'Maserati', 'Bentley', 'Alfa Romeo', 'Mercury', 'Genesis',\n",
       "       'Aston Martin', 'MG', 'Plymouth', 'Rolls-Royce'], dtype=object)"
      ]
     },
     "execution_count": 8,
     "metadata": {},
     "output_type": "execute_result"
    }
   ],
   "source": [
    "df.make.unique()"
   ]
  },
  {
   "cell_type": "code",
   "execution_count": 9,
   "metadata": {},
   "outputs": [
    {
     "data": {
      "text/html": [
       "<div>\n",
       "<style scoped>\n",
       "    .dataframe tbody tr th:only-of-type {\n",
       "        vertical-align: middle;\n",
       "    }\n",
       "\n",
       "    .dataframe tbody tr th {\n",
       "        vertical-align: top;\n",
       "    }\n",
       "\n",
       "    .dataframe thead th {\n",
       "        text-align: right;\n",
       "    }\n",
       "</style>\n",
       "<table border=\"1\" class=\"dataframe\">\n",
       "  <thead>\n",
       "    <tr style=\"text-align: right;\">\n",
       "      <th></th>\n",
       "      <th>title</th>\n",
       "      <th>make</th>\n",
       "      <th>model</th>\n",
       "      <th>description</th>\n",
       "    </tr>\n",
       "  </thead>\n",
       "  <tbody>\n",
       "    <tr>\n",
       "      <th>280</th>\n",
       "      <td>CA$H FOR SCRAP CARS &amp; FREE TOWING 6479798504</td>\n",
       "      <td>Other</td>\n",
       "      <td>Other</td>\n",
       "      <td>SCRAP CARS REMOVAL . 647-979-8504\\r\\nToronto,O...</td>\n",
       "    </tr>\n",
       "    <tr>\n",
       "      <th>314</th>\n",
       "      <td>Top cash paid for your used | unwanted | salva...</td>\n",
       "      <td>Other</td>\n",
       "      <td>Other</td>\n",
       "      <td>Hello folks.\\r\\nWe are offering a scrap car re...</td>\n",
       "    </tr>\n",
       "    <tr>\n",
       "      <th>412</th>\n",
       "      <td>Quality seat covers</td>\n",
       "      <td>Other</td>\n",
       "      <td>Other</td>\n",
       "      <td>Complete set includes two front and back seats...</td>\n",
       "    </tr>\n",
       "    <tr>\n",
       "      <th>1036</th>\n",
       "      <td>Food Truck For Sale | Call 5197218110</td>\n",
       "      <td>Other</td>\n",
       "      <td>Other</td>\n",
       "      <td>Call now: 5197218110Food truck for sale.Stainl...</td>\n",
       "    </tr>\n",
       "    <tr>\n",
       "      <th>2075</th>\n",
       "      <td>Two Coach bus sale for parts</td>\n",
       "      <td>Other</td>\n",
       "      <td>Other</td>\n",
       "      <td>Two used Coach Buses sale for parts. Both of t...</td>\n",
       "    </tr>\n",
       "    <tr>\n",
       "      <th>3032</th>\n",
       "      <td>Motorcycle ATV Snowmobile Jet Ski Utility Hydr...</td>\n",
       "      <td>Other</td>\n",
       "      <td>Other</td>\n",
       "      <td>Custom built roll off lift deck plate for all ...</td>\n",
       "    </tr>\n",
       "    <tr>\n",
       "      <th>3135</th>\n",
       "      <td>1984 Innocenti Mini De Tomaso Turbo</td>\n",
       "      <td>Other</td>\n",
       "      <td>Other</td>\n",
       "      <td>1984 Innocenti Mini De Tomaso Turbo\\r\\nVery ra...</td>\n",
       "    </tr>\n",
       "    <tr>\n",
       "      <th>3309</th>\n",
       "      <td>Slingshot SL</td>\n",
       "      <td>Other</td>\n",
       "      <td>Other</td>\n",
       "      <td>Like brand new comes with cover and two helmet...</td>\n",
       "    </tr>\n",
       "    <tr>\n",
       "      <th>3424</th>\n",
       "      <td>MOTUL &amp; LIQUI MOLY 5l</td>\n",
       "      <td>Other</td>\n",
       "      <td>Other</td>\n",
       "      <td>We have MOTUL &amp; LIQUI MOLY SYNTHETIC engine oi...</td>\n",
       "    </tr>\n",
       "    <tr>\n",
       "      <th>3648</th>\n",
       "      <td>Work Truck for Mobile Mechanic or Mobile Repai...</td>\n",
       "      <td>Other</td>\n",
       "      <td>Other</td>\n",
       "      <td>Year 2000 International 4900 Mobile Mechanic t...</td>\n",
       "    </tr>\n",
       "    <tr>\n",
       "      <th>4020</th>\n",
       "      <td>Db 500 Dustless Blaster</td>\n",
       "      <td>Other</td>\n",
       "      <td>Other</td>\n",
       "      <td>Selling a brand new DB 500 Dustless Sandblaste...</td>\n",
       "    </tr>\n",
       "    <tr>\n",
       "      <th>4094</th>\n",
       "      <td>05 hino certified dump truck</td>\n",
       "      <td>Other</td>\n",
       "      <td>Other</td>\n",
       "      <td>all service engine trans oil， new front pad，ne...</td>\n",
       "    </tr>\n",
       "    <tr>\n",
       "      <th>4312</th>\n",
       "      <td>Looking to buy cheap smart car</td>\n",
       "      <td>Other</td>\n",
       "      <td>Other</td>\n",
       "      <td>Looking to buy a smart car for the summer.\\r\\n...</td>\n",
       "    </tr>\n",
       "    <tr>\n",
       "      <th>4321</th>\n",
       "      <td>2005 Malibu Car For Sale</td>\n",
       "      <td>Other</td>\n",
       "      <td>Other</td>\n",
       "      <td>In good condition car. No issues just need to ...</td>\n",
       "    </tr>\n",
       "    <tr>\n",
       "      <th>4412</th>\n",
       "      <td>International Terrastar Caddy Vac Duct Cleanin...</td>\n",
       "      <td>Other</td>\n",
       "      <td>Other</td>\n",
       "      <td>BUSINESS OPPORTUNITY!International Terrastar 2...</td>\n",
       "    </tr>\n",
       "  </tbody>\n",
       "</table>\n",
       "</div>"
      ],
      "text/plain": [
       "                                                  title   make  model  \\\n",
       "280        CA$H FOR SCRAP CARS & FREE TOWING 6479798504  Other  Other   \n",
       "314   Top cash paid for your used | unwanted | salva...  Other  Other   \n",
       "412                                Quality seat covers   Other  Other   \n",
       "1036              Food Truck For Sale | Call 5197218110  Other  Other   \n",
       "2075                       Two Coach bus sale for parts  Other  Other   \n",
       "3032  Motorcycle ATV Snowmobile Jet Ski Utility Hydr...  Other  Other   \n",
       "3135                1984 Innocenti Mini De Tomaso Turbo  Other  Other   \n",
       "3309                                       Slingshot SL  Other  Other   \n",
       "3424                              MOTUL & LIQUI MOLY 5l  Other  Other   \n",
       "3648  Work Truck for Mobile Mechanic or Mobile Repai...  Other  Other   \n",
       "4020                            Db 500 Dustless Blaster  Other  Other   \n",
       "4094                      05 hino certified dump truck   Other  Other   \n",
       "4312                    Looking to buy cheap smart car   Other  Other   \n",
       "4321                           2005 Malibu Car For Sale  Other  Other   \n",
       "4412  International Terrastar Caddy Vac Duct Cleanin...  Other  Other   \n",
       "\n",
       "                                            description  \n",
       "280   SCRAP CARS REMOVAL . 647-979-8504\\r\\nToronto,O...  \n",
       "314   Hello folks.\\r\\nWe are offering a scrap car re...  \n",
       "412   Complete set includes two front and back seats...  \n",
       "1036  Call now: 5197218110Food truck for sale.Stainl...  \n",
       "2075  Two used Coach Buses sale for parts. Both of t...  \n",
       "3032  Custom built roll off lift deck plate for all ...  \n",
       "3135  1984 Innocenti Mini De Tomaso Turbo\\r\\nVery ra...  \n",
       "3309  Like brand new comes with cover and two helmet...  \n",
       "3424  We have MOTUL & LIQUI MOLY SYNTHETIC engine oi...  \n",
       "3648  Year 2000 International 4900 Mobile Mechanic t...  \n",
       "4020  Selling a brand new DB 500 Dustless Sandblaste...  \n",
       "4094  all service engine trans oil， new front pad，ne...  \n",
       "4312  Looking to buy a smart car for the summer.\\r\\n...  \n",
       "4321  In good condition car. No issues just need to ...  \n",
       "4412  BUSINESS OPPORTUNITY!International Terrastar 2...  "
      ]
     },
     "execution_count": 9,
     "metadata": {},
     "output_type": "execute_result"
    }
   ],
   "source": [
    "df[df.make == \"Other\"][['title','make','model','description']]"
   ]
  },
  {
   "cell_type": "code",
   "execution_count": 10,
   "metadata": {},
   "outputs": [
    {
     "data": {
      "text/plain": [
       "(15, 4)"
      ]
     },
     "execution_count": 10,
     "metadata": {},
     "output_type": "execute_result"
    }
   ],
   "source": [
    "df[df.make == \"Other\"][['title','make','model','description']].shape"
   ]
  },
  {
   "cell_type": "code",
   "execution_count": 11,
   "metadata": {},
   "outputs": [
    {
     "data": {
      "text/plain": [
       "(3, 3)"
      ]
     },
     "execution_count": 11,
     "metadata": {},
     "output_type": "execute_result"
    }
   ],
   "source": [
    "# These are services related to cars and not a car itself so we need to drop it\n",
    "df = df.drop([280,314,412,1036,2075,3032,3424,3648,4020,4094,4312,4412])\n",
    "df[df.make == \"Other\"][['make','model','description']].shape"
   ]
  },
  {
   "cell_type": "code",
   "execution_count": 12,
   "metadata": {},
   "outputs": [
    {
     "data": {
      "text/html": [
       "<div>\n",
       "<style scoped>\n",
       "    .dataframe tbody tr th:only-of-type {\n",
       "        vertical-align: middle;\n",
       "    }\n",
       "\n",
       "    .dataframe tbody tr th {\n",
       "        vertical-align: top;\n",
       "    }\n",
       "\n",
       "    .dataframe thead th {\n",
       "        text-align: right;\n",
       "    }\n",
       "</style>\n",
       "<table border=\"1\" class=\"dataframe\">\n",
       "  <thead>\n",
       "    <tr style=\"text-align: right;\">\n",
       "      <th></th>\n",
       "      <th>title</th>\n",
       "      <th>make</th>\n",
       "      <th>model</th>\n",
       "      <th>description</th>\n",
       "    </tr>\n",
       "  </thead>\n",
       "  <tbody>\n",
       "    <tr>\n",
       "      <th>3135</th>\n",
       "      <td>1984 Innocenti Mini De Tomaso Turbo</td>\n",
       "      <td>Other</td>\n",
       "      <td>Other</td>\n",
       "      <td>1984 Innocenti Mini De Tomaso Turbo\\r\\nVery ra...</td>\n",
       "    </tr>\n",
       "    <tr>\n",
       "      <th>3309</th>\n",
       "      <td>Slingshot SL</td>\n",
       "      <td>Other</td>\n",
       "      <td>Other</td>\n",
       "      <td>Like brand new comes with cover and two helmet...</td>\n",
       "    </tr>\n",
       "    <tr>\n",
       "      <th>4321</th>\n",
       "      <td>2005 Malibu Car For Sale</td>\n",
       "      <td>Other</td>\n",
       "      <td>Other</td>\n",
       "      <td>In good condition car. No issues just need to ...</td>\n",
       "    </tr>\n",
       "  </tbody>\n",
       "</table>\n",
       "</div>"
      ],
      "text/plain": [
       "                                    title   make  model  \\\n",
       "3135  1984 Innocenti Mini De Tomaso Turbo  Other  Other   \n",
       "3309                         Slingshot SL  Other  Other   \n",
       "4321             2005 Malibu Car For Sale  Other  Other   \n",
       "\n",
       "                                            description  \n",
       "3135  1984 Innocenti Mini De Tomaso Turbo\\r\\nVery ra...  \n",
       "3309  Like brand new comes with cover and two helmet...  \n",
       "4321  In good condition car. No issues just need to ...  "
      ]
     },
     "execution_count": 12,
     "metadata": {},
     "output_type": "execute_result"
    }
   ],
   "source": [
    "df[df.make == \"Other\"][['title','make','model','description']]"
   ]
  },
  {
   "cell_type": "code",
   "execution_count": 13,
   "metadata": {},
   "outputs": [],
   "source": [
    "# Manually update the make and models of these rows\n",
    "df.loc[3135,'make'] = \"Innocenti\"\n",
    "df.loc[3309,'make'] = \"Slingshot\"\n",
    "df.loc[4321,'make'] = \"Chevrolet\"\n",
    "\n",
    "df.loc[3135,'model'] = \"Tomaso Turbo\"\n",
    "df.loc[3309,'model'] = \"SL\"\n",
    "df.loc[4321,'model'] = \"Malibu\""
   ]
  },
  {
   "cell_type": "code",
   "execution_count": 14,
   "metadata": {},
   "outputs": [
    {
     "data": {
      "text/html": [
       "<div>\n",
       "<style scoped>\n",
       "    .dataframe tbody tr th:only-of-type {\n",
       "        vertical-align: middle;\n",
       "    }\n",
       "\n",
       "    .dataframe tbody tr th {\n",
       "        vertical-align: top;\n",
       "    }\n",
       "\n",
       "    .dataframe thead th {\n",
       "        text-align: right;\n",
       "    }\n",
       "</style>\n",
       "<table border=\"1\" class=\"dataframe\">\n",
       "  <thead>\n",
       "    <tr style=\"text-align: right;\">\n",
       "      <th></th>\n",
       "      <th>make</th>\n",
       "      <th>model</th>\n",
       "    </tr>\n",
       "  </thead>\n",
       "  <tbody>\n",
       "    <tr>\n",
       "      <th>3135</th>\n",
       "      <td>Innocenti</td>\n",
       "      <td>Tomaso Turbo</td>\n",
       "    </tr>\n",
       "    <tr>\n",
       "      <th>3309</th>\n",
       "      <td>Slingshot</td>\n",
       "      <td>SL</td>\n",
       "    </tr>\n",
       "    <tr>\n",
       "      <th>4321</th>\n",
       "      <td>Chevrolet</td>\n",
       "      <td>Malibu</td>\n",
       "    </tr>\n",
       "  </tbody>\n",
       "</table>\n",
       "</div>"
      ],
      "text/plain": [
       "           make         model\n",
       "3135  Innocenti  Tomaso Turbo\n",
       "3309  Slingshot            SL\n",
       "4321  Chevrolet        Malibu"
      ]
     },
     "execution_count": 14,
     "metadata": {},
     "output_type": "execute_result"
    }
   ],
   "source": [
    "df.loc[[3135,3309,4321]][['make','model']]"
   ]
  },
  {
   "cell_type": "code",
   "execution_count": 15,
   "metadata": {},
   "outputs": [
    {
     "data": {
      "text/plain": [
       "array(['Toyota', 'Subaru', 'Mitsubishi', 'Mazda', 'Suzuki', 'Honda',\n",
       "       'Ford', 'BMW', 'Acura', 'Hyundai', 'Volkswagen', 'Land Rover',\n",
       "       'Lexus', 'Chrysler', 'Smart', 'Chevrolet', 'Dodge', 'Nissan',\n",
       "       'Infiniti', 'Audi', 'Kia', 'Jeep', 'Mercedes-Benz', 'Pontiac',\n",
       "       'Buick', 'Jaguar', 'Scion', 'Cadillac', 'Volvo', 'GMC', 'Lincoln',\n",
       "       'HUMMER', 'Saab', 'MINI', 'Porsche', 'Tesla', 'Fiat', 'Saturn',\n",
       "       'Ram', 'Oldsmobile', 'Maserati', 'Bentley', 'Alfa Romeo',\n",
       "       'Mercury', 'Genesis', 'Innocenti', 'Aston Martin', 'Slingshot',\n",
       "       'MG', 'Plymouth', 'Rolls-Royce'], dtype=object)"
      ]
     },
     "execution_count": 15,
     "metadata": {},
     "output_type": "execute_result"
    }
   ],
   "source": [
    "df = df[df.make !='International Harvester']\n",
    "df.make.unique()"
   ]
  },
  {
   "cell_type": "code",
   "execution_count": 16,
   "metadata": {},
   "outputs": [
    {
     "data": {
      "text/html": [
       "<div>\n",
       "<style scoped>\n",
       "    .dataframe tbody tr th:only-of-type {\n",
       "        vertical-align: middle;\n",
       "    }\n",
       "\n",
       "    .dataframe tbody tr th {\n",
       "        vertical-align: top;\n",
       "    }\n",
       "\n",
       "    .dataframe thead th {\n",
       "        text-align: right;\n",
       "    }\n",
       "</style>\n",
       "<table border=\"1\" class=\"dataframe\">\n",
       "  <thead>\n",
       "    <tr style=\"text-align: right;\">\n",
       "      <th></th>\n",
       "      <th>title</th>\n",
       "      <th>make</th>\n",
       "      <th>model</th>\n",
       "      <th>description</th>\n",
       "    </tr>\n",
       "  </thead>\n",
       "  <tbody>\n",
       "    <tr>\n",
       "      <th>4</th>\n",
       "      <td>2014 Mazda CX  66,000 KM ONLY</td>\n",
       "      <td>Mazda</td>\n",
       "      <td>Other</td>\n",
       "      <td>10,900 or best offer\\r\\nMazda3 CX in amazing c...</td>\n",
       "    </tr>\n",
       "    <tr>\n",
       "      <th>19</th>\n",
       "      <td>BMW 335i xDrive M-performance Edition</td>\n",
       "      <td>BMW</td>\n",
       "      <td>Other</td>\n",
       "      <td>2013 BMW 335i xDrive M-Performance Edition\\r\\n...</td>\n",
       "    </tr>\n",
       "    <tr>\n",
       "      <th>25</th>\n",
       "      <td>Honda Civic 2010 DX-G</td>\n",
       "      <td>Honda</td>\n",
       "      <td>Other</td>\n",
       "      <td>Honda Civic for Sale Clean Car No Problems, Lo...</td>\n",
       "    </tr>\n",
       "    <tr>\n",
       "      <th>35</th>\n",
       "      <td>Honda Civic 2009 DX-G</td>\n",
       "      <td>Honda</td>\n",
       "      <td>Other</td>\n",
       "      <td>2009 HONDA CIVIC DX-G\\r\\nThe car is in a very ...</td>\n",
       "    </tr>\n",
       "    <tr>\n",
       "      <th>182</th>\n",
       "      <td>2015 Volkswagen Jetta</td>\n",
       "      <td>Volkswagen</td>\n",
       "      <td>Other</td>\n",
       "      <td>Runs and looks new, rustproofed every year, ne...</td>\n",
       "    </tr>\n",
       "    <tr>\n",
       "      <th>...</th>\n",
       "      <td>...</td>\n",
       "      <td>...</td>\n",
       "      <td>...</td>\n",
       "      <td>...</td>\n",
       "    </tr>\n",
       "    <tr>\n",
       "      <th>4367</th>\n",
       "      <td>2006 Volkswagen Jetta 2.5L Manual Transmission</td>\n",
       "      <td>Volkswagen</td>\n",
       "      <td>Other</td>\n",
       "      <td>2006 Volkswagen Jetta 2.5L Manual Transmission...</td>\n",
       "    </tr>\n",
       "    <tr>\n",
       "      <th>4387</th>\n",
       "      <td>2016 Mercedes-Benz Sprinter 2500 170 High Roof...</td>\n",
       "      <td>Mercedes-Benz</td>\n",
       "      <td>Other</td>\n",
       "      <td>2016 Mercedes Benz Sprinter passenger Van, in ...</td>\n",
       "    </tr>\n",
       "    <tr>\n",
       "      <th>4413</th>\n",
       "      <td>2007 doge minivan 130,000km</td>\n",
       "      <td>Chrysler</td>\n",
       "      <td>Other</td>\n",
       "      <td>2007 doge minvan for sale 4000\\r\\nCertified e ...</td>\n",
       "    </tr>\n",
       "    <tr>\n",
       "      <th>4423</th>\n",
       "      <td>Mint Pontiac Montana - only 110k! - Lowest mil...</td>\n",
       "      <td>Pontiac</td>\n",
       "      <td>Other</td>\n",
       "      <td>2005 Pontiac Montana for sale.\\r\\nSuper clean ...</td>\n",
       "    </tr>\n",
       "    <tr>\n",
       "      <th>4439</th>\n",
       "      <td>2010 Mazda 3 GX Sedan - As is</td>\n",
       "      <td>Mazda</td>\n",
       "      <td>Other</td>\n",
       "      <td>Selling the vehicle as we just had a baby and ...</td>\n",
       "    </tr>\n",
       "  </tbody>\n",
       "</table>\n",
       "<p>220 rows × 4 columns</p>\n",
       "</div>"
      ],
      "text/plain": [
       "                                                  title           make  model  \\\n",
       "4                         2014 Mazda CX  66,000 KM ONLY          Mazda  Other   \n",
       "19                BMW 335i xDrive M-performance Edition            BMW  Other   \n",
       "25                                Honda Civic 2010 DX-G          Honda  Other   \n",
       "35                                Honda Civic 2009 DX-G          Honda  Other   \n",
       "182                               2015 Volkswagen Jetta     Volkswagen  Other   \n",
       "...                                                 ...            ...    ...   \n",
       "4367     2006 Volkswagen Jetta 2.5L Manual Transmission     Volkswagen  Other   \n",
       "4387  2016 Mercedes-Benz Sprinter 2500 170 High Roof...  Mercedes-Benz  Other   \n",
       "4413                        2007 doge minivan 130,000km       Chrysler  Other   \n",
       "4423  Mint Pontiac Montana - only 110k! - Lowest mil...        Pontiac  Other   \n",
       "4439                      2010 Mazda 3 GX Sedan - As is          Mazda  Other   \n",
       "\n",
       "                                            description  \n",
       "4     10,900 or best offer\\r\\nMazda3 CX in amazing c...  \n",
       "19    2013 BMW 335i xDrive M-Performance Edition\\r\\n...  \n",
       "25    Honda Civic for Sale Clean Car No Problems, Lo...  \n",
       "35    2009 HONDA CIVIC DX-G\\r\\nThe car is in a very ...  \n",
       "182   Runs and looks new, rustproofed every year, ne...  \n",
       "...                                                 ...  \n",
       "4367  2006 Volkswagen Jetta 2.5L Manual Transmission...  \n",
       "4387  2016 Mercedes Benz Sprinter passenger Van, in ...  \n",
       "4413  2007 doge minvan for sale 4000\\r\\nCertified e ...  \n",
       "4423  2005 Pontiac Montana for sale.\\r\\nSuper clean ...  \n",
       "4439  Selling the vehicle as we just had a baby and ...  \n",
       "\n",
       "[220 rows x 4 columns]"
      ]
     },
     "execution_count": 16,
     "metadata": {},
     "output_type": "execute_result"
    }
   ],
   "source": [
    "df[df.model == 'Other'][['title','make','model','description']]"
   ]
  },
  {
   "cell_type": "code",
   "execution_count": 17,
   "metadata": {},
   "outputs": [
    {
     "data": {
      "text/plain": [
       "array(['Mazda', 'BMW', 'Honda', 'Volkswagen', 'Chrysler', 'GMC',\n",
       "       'Infiniti', 'Chevrolet', 'Fiat', 'Lexus', 'Cadillac', 'Toyota',\n",
       "       'Subaru', 'MINI', 'Nissan', 'Jeep', 'Mitsubishi', 'Mercedes-Benz',\n",
       "       'Ford', 'Audi', 'Acura', 'Hyundai', 'Dodge', 'Jaguar', 'Scion',\n",
       "       'Saturn', 'Oldsmobile', 'Rolls-Royce', 'Pontiac'], dtype=object)"
      ]
     },
     "execution_count": 17,
     "metadata": {},
     "output_type": "execute_result"
    }
   ],
   "source": [
    "df[df.model == 'Other'].make.unique()"
   ]
  },
  {
   "cell_type": "code",
   "execution_count": 18,
   "metadata": {},
   "outputs": [
    {
     "data": {
      "text/html": [
       "<div>\n",
       "<style scoped>\n",
       "    .dataframe tbody tr th:only-of-type {\n",
       "        vertical-align: middle;\n",
       "    }\n",
       "\n",
       "    .dataframe tbody tr th {\n",
       "        vertical-align: top;\n",
       "    }\n",
       "\n",
       "    .dataframe thead th {\n",
       "        text-align: right;\n",
       "    }\n",
       "</style>\n",
       "<table border=\"1\" class=\"dataframe\">\n",
       "  <thead>\n",
       "    <tr style=\"text-align: right;\">\n",
       "      <th></th>\n",
       "      <th>Make</th>\n",
       "      <th>Model</th>\n",
       "    </tr>\n",
       "  </thead>\n",
       "  <tbody>\n",
       "    <tr>\n",
       "      <th>0</th>\n",
       "      <td>Audi</td>\n",
       "      <td>Q3</td>\n",
       "    </tr>\n",
       "    <tr>\n",
       "      <th>1</th>\n",
       "      <td>Cadillac</td>\n",
       "      <td>Escalade ESV</td>\n",
       "    </tr>\n",
       "    <tr>\n",
       "      <th>2</th>\n",
       "      <td>Chevrolet</td>\n",
       "      <td>Malibu</td>\n",
       "    </tr>\n",
       "    <tr>\n",
       "      <th>3</th>\n",
       "      <td>Chevrolet</td>\n",
       "      <td>Corvette</td>\n",
       "    </tr>\n",
       "    <tr>\n",
       "      <th>4</th>\n",
       "      <td>Acura</td>\n",
       "      <td>RLX</td>\n",
       "    </tr>\n",
       "  </tbody>\n",
       "</table>\n",
       "</div>"
      ],
      "text/plain": [
       "        Make         Model\n",
       "0       Audi            Q3\n",
       "1   Cadillac  Escalade ESV\n",
       "2  Chevrolet        Malibu\n",
       "3  Chevrolet      Corvette\n",
       "4      Acura           RLX"
      ]
     },
     "execution_count": 18,
     "metadata": {},
     "output_type": "execute_result"
    }
   ],
   "source": [
    "car_models = pd.read_csv(\"carmodels.csv\")[['Make','Model']]\n",
    "car_models.head()"
   ]
  },
  {
   "cell_type": "code",
   "execution_count": 19,
   "metadata": {},
   "outputs": [
    {
     "data": {
      "text/plain": [
       "Other       220\n",
       "Civic       163\n",
       "3-Series    136\n",
       "Accord       76\n",
       "Corolla      66\n",
       "           ... \n",
       "XJ12          1\n",
       "Tracker       1\n",
       "Stealth       1\n",
       "Mirage        1\n",
       "Q3            1\n",
       "Name: model, Length: 480, dtype: int64"
      ]
     },
     "execution_count": 19,
     "metadata": {},
     "output_type": "execute_result"
    }
   ],
   "source": [
    "df.model.value_counts()"
   ]
  },
  {
   "cell_type": "code",
   "execution_count": 20,
   "metadata": {},
   "outputs": [],
   "source": [
    "def model_imputation(x):\n",
    "    make = x[14]\n",
    "    model = x[15]\n",
    "    description = x[24]\n",
    "    title = x[10]\n",
    "    if \"other\" in model.lower():\n",
    "        same_make_car = car_models[car_models.Make == make]\n",
    "        for car in same_make_car.values:\n",
    "            if car[1] in description or car[1] in title:\n",
    "                return car[1]\n",
    "    return model\n",
    "\n",
    "def transmission_imputation(x):\n",
    "    model = x[15]\n",
    "    description = x[24]\n",
    "    transmission =x[21]\n",
    "    if pd.isnull(transmission):\n",
    "        trans = df[df.model==model].transmission.mode()\n",
    "\n",
    "        if \"automatic\" in description.lower():\n",
    "            return \"Automatic\"\n",
    "\n",
    "        if \"manual\" in description.lower():\n",
    "            return \"Manual\"\n",
    "        \n",
    "        if trans.shape[0] == 0:\n",
    "            return \"Other\"\n",
    "        \n",
    "        # If there are mode than 1 mode result, pick a random mode value\n",
    "        if trans.shape[0] >= 2:\n",
    "            return np.random.choice(trans, 1)[0]\n",
    "\n",
    "        return trans[0]\n",
    "    \n",
    "    return transmission\n",
    "\n",
    "def colour_imputation(x):\n",
    "    model = x[15]\n",
    "    colour = x[17]\n",
    "    \n",
    "    if pd.isnull(colour):\n",
    "        col = df[df.model==model].colour.mode()\n",
    "        \n",
    "        # If there are mode than 1 mode result, pick a random mode value\n",
    "        if col.shape[0] >= 2:\n",
    "            return np.random.choice(col,1)[0]\n",
    "        \n",
    "        if col.shape[0] == 0:\n",
    "            return \"Other\"\n",
    "        \n",
    "        return col[0]\n",
    "    return colour\n",
    "\n",
    "def door_imputation(x):\n",
    "    model = x[14]\n",
    "    doors = x[19]\n",
    "    \n",
    "    if pd.isnull(doors):\n",
    "        door = df[df.model == model].doors.mode()\n",
    "        \n",
    "        if door.shape[0] >= 2:\n",
    "            return np.random.choice(door,1)[0]\n",
    "        \n",
    "        if door.shape[0] == 0:\n",
    "            return \"4\"\n",
    "        \n",
    "        return door[0]\n",
    "    return doors\n",
    "\n",
    "def seat_imputation(x):\n",
    "    model = x[14]\n",
    "    seats = x[20]\n",
    "    \n",
    "    if pd.isnull(seats):\n",
    "        seat = df[df.model == model].seating.mode()\n",
    "        \n",
    "        if seat.shape[0] >= 2:\n",
    "            return np.random.choice(seat,1)[0]\n",
    "        \n",
    "        if seat.shape[0] == 0:\n",
    "            return \"5\"\n",
    "        \n",
    "        return seat[0]\n",
    "        \n",
    "    return seats\n",
    "\n",
    "\n",
    "def fuel_imputation(x):\n",
    "    model = x[14]\n",
    "    fuels = x[22]\n",
    "    description = x[24]\n",
    "\n",
    "    if pd.isnull(fuels):\n",
    "        fuel = df[df.model == model].fuel.mode()\n",
    "        \n",
    "        if \"electric\" in description:\n",
    "            return \"Electric\"\n",
    "        \n",
    "        if \"hybrid-electric\" in description:\n",
    "            return \"Hybrid-Electric\"\n",
    "        \n",
    "        if \"gasoline\" in description or  fuel.shape[0] == 0:\n",
    "            return \"Gasoline\"\n",
    "        \n",
    "        if \"diesel\" in description:\n",
    "            return \"Diesel\"\n",
    "            \n",
    "        if fuel.shape[0] >= 2:\n",
    "            return np.random.choice(fuel,1)[0]\n",
    "    \n",
    "        \n",
    "        return fuel[0]\n",
    "    \n",
    "    return fuels\n",
    "        "
   ]
  },
  {
   "cell_type": "code",
   "execution_count": 21,
   "metadata": {},
   "outputs": [
    {
     "data": {
      "text/plain": [
       "sunroof           0.000000\n",
       "alloywheels       0.000000\n",
       "aircondition      0.000000\n",
       "nav               0.000000\n",
       "bluetooth         0.000000\n",
       "pushstart         0.000000\n",
       "parkingassist     0.000000\n",
       "cruisecontrol     0.000000\n",
       "trailerhitch      0.000000\n",
       "url               0.000000\n",
       "title             0.000000\n",
       "price             0.000000\n",
       "condition         0.000000\n",
       "year              0.000000\n",
       "make              0.000000\n",
       "model             0.000000\n",
       "trim             50.055897\n",
       "colour           14.952487\n",
       "body              0.000000\n",
       "doors            16.741196\n",
       "seating          23.029625\n",
       "transmission      9.083287\n",
       "fuel             27.920626\n",
       "km                0.000000\n",
       "description       0.000000\n",
       "carfax           77.193963\n",
       "vin              77.193963\n",
       "dtype: float64"
      ]
     },
     "execution_count": 21,
     "metadata": {},
     "output_type": "execute_result"
    }
   ],
   "source": [
    "percent_of_nums = 100*df.isnull().sum(axis = 0)/df.shape[0]\n",
    "percent_of_nums"
   ]
  },
  {
   "cell_type": "code",
   "execution_count": 22,
   "metadata": {},
   "outputs": [
    {
     "data": {
      "image/png": "[encoded data removed]",
      "text/plain": [
       "<Figure size 432x288 with 1 Axes>"
      ]
     },
     "metadata": {
      "needs_background": "light"
     },
     "output_type": "display_data"
    }
   ],
   "source": [
    "sns.barplot(x=percent_of_nums.index,y=percent_of_nums.values)\n",
    "plt.xticks(rotation='vertical')\n",
    "plt.title(\"Percentages of Missing Values with Respect to Features\")\n",
    "plt.ylabel(\"Percent\")\n",
    "plt.xlabel(\"Feature\");"
   ]
  },
  {
   "cell_type": "code",
   "execution_count": 23,
   "metadata": {},
   "outputs": [],
   "source": [
    "df.transmission = df.apply(transmission_imputation, axis=1)\n",
    "df.model = df.apply(model_imputation, axis=1)\n",
    "df.colour = df.apply(colour_imputation, axis=1)\n",
    "df.doors = df.apply(door_imputation, axis=1)\n",
    "df.seating = df.apply(seat_imputation, axis=1)\n",
    "df.fuel = df.apply(fuel_imputation, axis=1)"
   ]
  },
  {
   "cell_type": "code",
   "execution_count": 24,
   "metadata": {},
   "outputs": [
    {
     "data": {
      "image/png": "[encoded data removed]",
      "text/plain": [
       "<Figure size 432x288 with 1 Axes>"
      ]
     },
     "metadata": {
      "needs_background": "light"
     },
     "output_type": "display_data"
    }
   ],
   "source": [
    "percent_of_nums = 100*df.isnull().sum(axis = 0)/df.shape[0]\n",
    "sns.barplot(x=percent_of_nums.index,y=percent_of_nums.values)\n",
    "plt.xticks(rotation='vertical')\n",
    "plt.title(\"Percentages of Missing Values with Respect to Features\")\n",
    "plt.ylabel(\"Percent\")\n",
    "plt.xlabel(\"Feature\");"
   ]
  },
  {
   "cell_type": "code",
   "execution_count": 25,
   "metadata": {},
   "outputs": [],
   "source": [
    "df = df.drop(columns=['trim','vin','carfax'])"
   ]
  },
  {
   "cell_type": "code",
   "execution_count": 26,
   "metadata": {},
   "outputs": [
    {
     "name": "stdout",
     "output_type": "stream",
     "text": [
      "<class 'pandas.core.frame.DataFrame'>\n",
      "Int64Index: 3578 entries, 0 to 4459\n",
      "Data columns (total 24 columns):\n",
      " #   Column         Non-Null Count  Dtype  \n",
      "---  ------         --------------  -----  \n",
      " 0   sunroof        3578 non-null   int64  \n",
      " 1   alloywheels    3578 non-null   int64  \n",
      " 2   aircondition   3578 non-null   int64  \n",
      " 3   nav            3578 non-null   int64  \n",
      " 4   bluetooth      3578 non-null   int64  \n",
      " 5   pushstart      3578 non-null   int64  \n",
      " 6   parkingassist  3578 non-null   int64  \n",
      " 7   cruisecontrol  3578 non-null   int64  \n",
      " 8   trailerhitch   3578 non-null   int64  \n",
      " 9   url            3578 non-null   object \n",
      " 10  title          3578 non-null   object \n",
      " 11  price          3578 non-null   float64\n",
      " 12  condition      3578 non-null   object \n",
      " 13  year           3578 non-null   float64\n",
      " 14  make           3578 non-null   object \n",
      " 15  model          3578 non-null   object \n",
      " 16  colour         3578 non-null   object \n",
      " 17  body           3578 non-null   object \n",
      " 18  doors          3578 non-null   object \n",
      " 19  seating        3578 non-null   object \n",
      " 20  transmission   3578 non-null   object \n",
      " 21  fuel           3578 non-null   object \n",
      " 22  km             3578 non-null   object \n",
      " 23  description    3578 non-null   object \n",
      "dtypes: float64(2), int64(9), object(13)\n",
      "memory usage: 698.8+ KB\n"
     ]
    }
   ],
   "source": [
    "df.info()"
   ]
  },
  {
   "cell_type": "code",
   "execution_count": 35,
   "metadata": {},
   "outputs": [],
   "source": [
    "df = df[df.seating!=\"Other\"]\n",
    "df = df[df.doors != \"Other\"]\n",
    "df.seating = df.seating.astype('int32')\n",
    "df.doors = df.doors.astype('int32')"
   ]
  },
  {
   "cell_type": "code",
   "execution_count": 36,
   "metadata": {},
   "outputs": [
    {
     "name": "stdout",
     "output_type": "stream",
     "text": [
      "<class 'pandas.core.frame.DataFrame'>\n",
      "Int64Index: 3514 entries, 0 to 4459\n",
      "Data columns (total 24 columns):\n",
      " #   Column         Non-Null Count  Dtype  \n",
      "---  ------         --------------  -----  \n",
      " 0   sunroof        3514 non-null   int64  \n",
      " 1   alloywheels    3514 non-null   int64  \n",
      " 2   aircondition   3514 non-null   int64  \n",
      " 3   nav            3514 non-null   int64  \n",
      " 4   bluetooth      3514 non-null   int64  \n",
      " 5   pushstart      3514 non-null   int64  \n",
      " 6   parkingassist  3514 non-null   int64  \n",
      " 7   cruisecontrol  3514 non-null   int64  \n",
      " 8   trailerhitch   3514 non-null   int64  \n",
      " 9   url            3514 non-null   object \n",
      " 10  title          3514 non-null   object \n",
      " 11  price          3514 non-null   float64\n",
      " 12  condition      3514 non-null   object \n",
      " 13  year           3514 non-null   float64\n",
      " 14  make           3514 non-null   object \n",
      " 15  model          3514 non-null   object \n",
      " 16  colour         3514 non-null   object \n",
      " 17  body           3514 non-null   object \n",
      " 18  doors          3514 non-null   int32  \n",
      " 19  seating        3514 non-null   int32  \n",
      " 20  transmission   3514 non-null   object \n",
      " 21  fuel           3514 non-null   object \n",
      " 22  km             3514 non-null   object \n",
      " 23  description    3514 non-null   object \n",
      "dtypes: float64(2), int32(2), int64(9), object(11)\n",
      "memory usage: 658.9+ KB\n"
     ]
    }
   ],
   "source": [
    "df.info()"
   ]
  },
  {
   "cell_type": "code",
   "execution_count": null,
   "metadata": {},
   "outputs": [],
   "source": []
  },
  {
   "cell_type": "code",
   "execution_count": null,
   "metadata": {},
   "outputs": [],
   "source": []
  },
  {
   "cell_type": "code",
   "execution_count": null,
   "metadata": {},
   "outputs": [],
   "source": []
  },
  {
   "cell_type": "code",
   "execution_count": null,
   "metadata": {},
   "outputs": [],
   "source": []
  }
 ],
 "metadata": {
  "kernelspec": {
   "display_name": "Python 3",
   "language": "python",
   "name": "python3"
  },
  "language_info": {
   "codemirror_mode": {
    "name": "ipython",
    "version": 3
   },
   "file_extension": ".py",
   "mimetype": "text/x-python",
   "name": "python",
   "nbconvert_exporter": "python",
   "pygments_lexer": "ipython3",
   "version": "3.7.6"
  }
 },
 "nbformat": 4,
 "nbformat_minor": 4
}
